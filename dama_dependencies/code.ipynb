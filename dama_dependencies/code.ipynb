{
 "cells": [
  {
   "cell_type": "code",
   "execution_count": 16,
   "id": "0eca0f7a",
   "metadata": {},
   "outputs": [],
   "source": [
    "#importing libraries\n",
    "from pyvis.network import Network\n",
    "import pandas as pd "
   ]
  },
  {
   "cell_type": "code",
   "execution_count": 17,
   "id": "34e1b81d",
   "metadata": {},
   "outputs": [],
   "source": [
    "#initiating network\n",
    "net = Network(\n",
    "    notebook = True,\n",
    "    directed = True,  \n",
    "    cdn_resources=\"remote\",\n",
    "    font_color = \"yellow\",     \n",
    "    height = \"1000px\",         \n",
    "    width = \"100%\",             \n",
    "    filter_menu = True,\n",
    "    )"
   ]
  },
  {
   "cell_type": "code",
   "execution_count": 18,
   "id": "ca5e900c",
   "metadata": {},
   "outputs": [],
   "source": [
    "#importing a file\n",
    "df = pd.read_csv('dama_wheel2.csv')"
   ]
  },
  {
   "cell_type": "code",
   "execution_count": 19,
   "id": "149ca705",
   "metadata": {},
   "outputs": [
    {
     "name": "stdout",
     "output_type": "stream",
     "text": [
      "dama_wheel.html\n"
     ]
    },
    {
     "data": {
      "text/html": [
       "\n",
       "        <iframe\n",
       "            width=\"100%\"\n",
       "            height=\"1000px\"\n",
       "            src=\"dama_wheel.html\"\n",
       "            frameborder=\"0\"\n",
       "            allowfullscreen\n",
       "            \n",
       "        ></iframe>\n",
       "        "
      ],
      "text/plain": [
       "<IPython.lib.display.IFrame at 0x2685f5bae20>"
      ]
     },
     "execution_count": 19,
     "metadata": {},
     "output_type": "execute_result"
    }
   ],
   "source": [
    "nodes = set(df['Rel']).union(df['Practice_area'])\n",
    "#color_map = {\n",
    "#    'collaborates': 'blue',\n",
    "#    'interacts': 'red',\n",
    "#    'relies': 'green'\n",
    "#}\n",
    "\n",
    "for node in nodes:\n",
    "    net.add_node(node, label=node, title=node, hover=True, size = 130)\n",
    "for _, row in df.iterrows():\n",
    "    net.add_edge(row['Practice_area'], row['Rel'], title=row['Attr'], width=13)#, color=color_map.get(row['Attr'], 'black'))\n",
    "#net.show_buttons(filter_=['nodes'])\n",
    "net.barnes_hut()\n",
    "net.show('dama_wheel.html')"
   ]
  },
  {
   "cell_type": "code",
   "execution_count": null,
   "id": "22199794",
   "metadata": {},
   "outputs": [],
   "source": []
  }
 ],
 "metadata": {
  "kernelspec": {
   "display_name": "Python 3 (ipykernel)",
   "language": "python",
   "name": "python3"
  },
  "language_info": {
   "codemirror_mode": {
    "name": "ipython",
    "version": 3
   },
   "file_extension": ".py",
   "mimetype": "text/x-python",
   "name": "python",
   "nbconvert_exporter": "python",
   "pygments_lexer": "ipython3",
   "version": "3.9.16"
  }
 },
 "nbformat": 4,
 "nbformat_minor": 5
}
